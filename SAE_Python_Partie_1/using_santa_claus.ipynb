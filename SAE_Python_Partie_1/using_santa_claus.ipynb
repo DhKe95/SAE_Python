{
  "metadata": {
    "kernelspec": {
      "name": "python",
      "display_name": "Python (Pyodide)",
      "language": "python"
    },
    "language_info": {
      "codemirror_mode": {
        "name": "python",
        "version": 3
      },
      "file_extension": ".py",
      "mimetype": "text/x-python",
      "name": "python",
      "nbconvert_exporter": "python",
      "pygments_lexer": "ipython3",
      "version": "3.8"
    }
  },
  "nbformat_minor": 4,
  "nbformat": 4,
  "cells": [
    {
      "cell_type": "code",
      "source": "#Question 4\n\n#Pour la comparaison expérimentale:\n\nfrom time import time\n\ntic=time()\ntour_length([\"Paris\", \"Lyon\", \"Marseille\", \"Lille\"], {'Paris': {'Lyon': 394.5056834297657, 'Marseille': 661.8616554466715,\n                    'Lille': 203.67224282540448}, 'Lyon': {'Paris': 394.5056834297657, 'Marseille': 275.87965367429894, \n                    'Lille': 558.5472363339516}, 'Marseille': {'Paris': 661.8616554466715, 'Lyon': 275.87965367429894, \n                    'Lille': 834.0220261600157}, 'Lille': {'Paris': 203.67224282540448, 'Lyon': 558.5472363339516, \n                    'Marseille': 834.0220261600157}})\ntac=time()\nres1=(tac-tic)*1000\nprint(\"Le temps obtenu est de \", res1, \"ms\")\n\ntic=time()\nlong_tour(['Paris', 2.33, 48.86, 'Lyon', 4.85, 45.75, 'Marseille', 5.4, 43.3, 'Lille', 3.06, 50.63, \n           'Strasbourg', 7.75, 48.57, 'Rennes', -1.66, 48.11, 'Clermont-Ferrand', 3.08, 45.77, 'Bordeaux', -0.57, 44.83,\n           'Toulouse', 1.43, 43.6, 'Grenoble', 5.72, 45.18], [\"Paris\", \"Lyon\", \"Marseille\", \"Lille\"])\ntac=time()\nres2=(tac-tic)*1000\nprint(\"Le temps obtenu est de \", res2, \"ms\")\n\n\n#Pour la comparaison théorique\n\n\n#Long_tour:\n\n#La complexité de la boucle while dans la fonction long_tour est linéaire par rapport à la taille du tableau tournee. \n#Si la taille du tableau est n, alors la complexité est O(n). Cela est dû au fait que chaque itération de la boucle parcourt\n#un élément du tableau.\n\n\n#Tour_length:\n\n#La fonction tour_length appelle la fonction distance_noms pour chaque paire de villes dans le tour. \n#La complexité de distance_noms est généralement considérée comme constante, car elle effectue un nombre fixe d'opérations \n#pour calculer la distance. Cependant, puisque distance_noms elle-même appelle indexCity qui parcourt linéairement la liste des\n#villes, la complexité de distance_noms peut être considérée comme linéaire dans le pire des cas.\n\n#O(n) dans les 2 cas",
      "metadata": {
        "trusted": true
      },
      "outputs": [],
      "execution_count": null
    },
    {
      "cell_type": "code",
      "source": "#QUESTION 8\n\n#tour_from_closest_city a une complexité quadratique  une complexité quadratique car, \n#à chaque étape, il doit parcourir toutes les villes non visitées pour trouver la plus proche de la ville actuelle. \n#Cela conduit à une complexité en temps de l'ordre de O(n^2), où n est le nombre de villes à visiter. \n\n\n#tour_lenght a une complexité asymptotique linéaire car il parcourt chaque paire consécutive de villes une seule \n#fois pour calculer la distance totale du circuit.\n\n#Donc best_tour_from_closest_city a une complexité asymptotique cubique",
      "metadata": {
        "trusted": true
      },
      "outputs": [],
      "execution_count": 1
    },
    {
      "cell_type": "code",
      "source": "",
      "metadata": {
        "trusted": true
      },
      "outputs": [],
      "execution_count": null
    }
  ]
}