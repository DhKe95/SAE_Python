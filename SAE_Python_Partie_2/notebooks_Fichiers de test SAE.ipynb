{
 "cells": [
  {
   "cell_type": "markdown",
   "metadata": {},
   "source": [
    "# <center> Santa Claus needs you!</center>\n",
    "<center> SAE 1.01 / 2023 - 24 </center>\n",
    "\n"
   ]
  },
  {
   "cell_type": "markdown",
   "metadata": {
    "deletable": false,
    "editable": false
   },
   "source": [
    "**Attendus**\n",
    "\n",
    "Les attendus de cette SAE sont que vous appreniez à \n",
    "- respecter un cahier des charges ;\n",
    "- écrire un code de qualité : efficace, lisible, documenté et testé sauf quand il s'agit d'affichages, de saisies ou de tirages aléatoires ;\n",
    " - travailler en groupe sur un projet : cette SAE est à faire en **binôme**. Vous devez néanmoins comprendre et connaître la totalité de ce qui est produit par le binôme.\n",
    "\n",
    "\n",
    "**Calendrier**\n",
    "- Le projet est à rendre au plus tard le vendredi **10 novembre** 2023. Les modalités de rendu vous seront précisées par votre enseignant.\n",
    "- Un contrôle de 2h en lien avec le contenu de cette SAE aura lieu le vendredi **10 novembre** 2023.\n",
    "\n",
    "**Evaluation**\n",
    "- Le projet comptera pour 40% de la note de SAE 1.01. <BR>\n",
    "Il sera particulièrement tenu compte de la qualité du code, des **commentaires** et **docstrings**, des fonctions de **tests unitaires** pour les fonctions renvoyant des résultats. <BR><BR>\n",
    "    \n",
    "- Le contrôle compte pour 60% de la note finale."
   ]
  },
  {
   "cell_type": "markdown",
   "metadata": {
    "deletable": false,
    "editable": false
   },
   "source": [
    "## <center> Sujet </center>\n",
    "\n",
    "Le Père Noël se fait vieux, il a besoin d'aider pour organiser sa distribution de cadeaux. Il vous prend à l'essai...\n",
    "\n",
    "L'objectif est de chercher une tournée des villes minimisant la distance parcourue par les rennes du Père Noël."
   ]
  },
  {
   "cell_type": "markdown",
   "metadata": {
    "deletable": false,
    "editable": false
   },
   "source": [
    "On décide de stocker les données sur les villes à visiter dans un tableau `villes` de chaînes de caractères et de flottants contenant successivement une ville (sous forme d'une chaîne de caractères), sa longitude et sa latitude (des flottants) en dégrés décimaux (DD) de sorte que `villes[3*i]` a pour longitude  `villes[3*i+1]` et pour latitude `villes[3*i+2]`.\n",
    "\n",
    "On suppose que chaque ville n'est présente qu'une seule fois dans le tableau.\n",
    "\n",
    "**Exemple** : "
   ]
  },
  {
   "cell_type": "code",
   "execution_count": 23,
   "metadata": {
    "deletable": false,
    "editable": false,
    "scrolled": true
   },
   "outputs": [],
   "source": [
    "villes = [\"Paris\",2.33,48.86, \"Lyon\",4.85,45.75, \n",
    "          \"Marseille\", 5.40,43.30, \"Lille\",3.06,50.63, \n",
    "          \"Strasbourg\",7.75,48.57, \"Rennes\",-1.66,48.11, \n",
    "          \"Clermont-Ferrand\",3.08,45.77, \"Bordeaux\", -0.57, 44.83]"
   ]
  },
  {
   "cell_type": "markdown",
   "metadata": {
    "deletable": false,
    "editable": false
   },
   "source": [
    "Ainsi\n",
    "- Paris a une longitude de 2,33 DD et une latitude de 48,86 DD.\n",
    "- Rennes a une longitude de -1,66 DD et une latitude de 48,11 DD."
   ]
  },
  {
   "cell_type": "markdown",
   "metadata": {
    "deletable": false,
    "editable": false
   },
   "source": [
    "#### Question préliminaire : Représentation des villes par un tableau\n",
    "\n",
    "- Ajouter dans le tableau précédent Toulouse dont la longitude est 1,43 DD et la latitude est 43,60 DD, ainsi que Grenoble dont la longitude est 5,72 DD et la latitude est 45,18 DD."
   ]
  },
  {
   "cell_type": "code",
   "execution_count": 24,
   "metadata": {
    "scrolled": true
   },
   "outputs": [
    {
     "name": "stdout",
     "output_type": "stream",
     "text": [
      "['Paris', 2.33, 48.86, 'Lyon', 4.85, 45.75, 'Marseille', 5.4, 43.3, 'Lille', 3.06, 50.63, 'Strasbourg', 7.75, 48.57, 'Rennes', -1.66, 48.11, 'Clermont-Ferrand', 3.08, 45.77, 'Bordeaux', -0.57, 44.83, 'Toulouse', 1.43, 43.6, 'Grenoble', 5.72, 45.18]\n"
     ]
    }
   ],
   "source": [
    "villes.append(\"Toulouse\")\n",
    "villes.append(1.43)\n",
    "villes.append(43.60)\n",
    "villes.append(\"Grenoble\")\n",
    "villes.append(5.72)\n",
    "villes.append(45.18)\n",
    "print(villes)\n",
    "\n"
   ]
  },
  {
   "cell_type": "markdown",
   "metadata": {
    "deletable": false,
    "editable": false
   },
   "source": [
    "#### Question 1 : Nombre de villes à visiter\n",
    "\n",
    "- Étant donné un tableau `villes`, écrire une fonction `nb_villes(villes)` qui retourne le nombre de villes à visiter contenues dans le tableau `villes`. \n",
    "- Ecrire une fonction de tests unitaires permettant de vérifier cette fonction. "
   ]
  },
  {
   "cell_type": "code",
   "execution_count": 25,
   "metadata": {
    "scrolled": true
   },
   "outputs": [
    {
     "name": "stdout",
     "output_type": "stream",
     "text": [
      "10\n",
      "Test OK\n"
     ]
    }
   ],
   "source": [
    "\"\"\"\n",
    "Cette fonction parcourt tous les éléments du tableau \"villes\" et repère quels éléments sont du type chaine de caratère, représentant alors des noms de villes.\n",
    "Quand c'est le cas, la fonction ajoute 1 à la variable nombre_villes afin de compter combien il y a de villes dans le tableau. Une fois tout le tableau parcouru,\n",
    "la fonction retourne la variable nombre_villes qui contient le nombre de villes contenues dans le tableau \"villes\".\n",
    "\"\"\"\n",
    "\n",
    "\n",
    "def nb_villes(villes):\n",
    "    i=0\n",
    "    nombre_villes=0\n",
    "    while i<len(villes):\n",
    "        if type(villes[i])==str:\n",
    "            nombre_villes+=1\n",
    "        i+=1\n",
    "    return nombre_villes\n",
    "print(nb_villes(villes))\n",
    "\n",
    "from math import*\n",
    "def test_nb_villes():\n",
    "    assert nb_villes(villes)==10\n",
    "    assert nb_villes([])==0\n",
    "    assert nb_villes([\"Paris\",2.41,4.30])==1\n",
    "    assert nb_villes([\"Paris\",\"Marseille\",\"Lyon\"])==3\n",
    "    assert nb_villes([2.33,48.86,4.85])==0\n",
    "    assert nb_villes([2.33,\"Paris\",48.86,\"Lyon\"])==2\n",
    "    print(\"Test OK\")\n",
    "test_nb_villes()\n"
   ]
  },
  {
   "cell_type": "markdown",
   "metadata": {
    "deletable": false,
    "editable": false
   },
   "source": [
    "#### Question 2 : Tableaux des noms de villes à visiter\n",
    "\n",
    "- Étant donné un tableau `villes`, écrire une fonction `noms_villes(villes)` qui retourne le tableau des noms des villes à visiter contenues dans le tableau `villes`. \n",
    "- Ecrire une fonction de tests unitaires permettant de vérifier cette fonction. "
   ]
  },
  {
   "cell_type": "code",
   "execution_count": 26,
   "metadata": {
    "scrolled": true
   },
   "outputs": [
    {
     "name": "stdout",
     "output_type": "stream",
     "text": [
      "['Paris', 'Lyon', 'Marseille', 'Lille', 'Strasbourg', 'Rennes', 'Clermont-Ferrand', 'Bordeaux', 'Toulouse', 'Grenoble']\n",
      "Test OK\n"
     ]
    }
   ],
   "source": [
    "\"\"\"\n",
    "Cette fonction crée un tableau vide, qui va par la suite contenir le noms des villes qui sont contenues dans le tableau \"villes\". La fonction parcours donc\n",
    "tous les éléments du tableau et repère ceux qui sont du type chaine de caractère, représentant alors des villes. Quand c'est le cas, la fonction ajoute le nom \n",
    "de la ville au tableau \"noms\". Une fois tous le tableau parcouru, la fonction retourne le tableau \"noms\" avec les noms de toutes les villescontenues dans le tableau \n",
    "\"villes\".\n",
    "\"\"\"\n",
    "\n",
    "def noms_villes(villes):\n",
    "    i=0\n",
    "    noms=[]\n",
    "    while i<len(villes):\n",
    "        if type(villes[i])==str:\n",
    "            noms.append(villes[i])\n",
    "        i+=1\n",
    "    return noms\n",
    "print(noms_villes(villes))\n",
    "\n",
    "\n",
    "from math import*\n",
    "def test_noms_villes():\n",
    "    assert noms_villes([])==[]\n",
    "    assert noms_villes([\"Paris\",\"Lyon\",\"Marseille\"])==[\"Paris\",\"Lyon\",\"Marseille\"]\n",
    "    assert noms_villes([2.33,48.86,4.85,45.75])==[]\n",
    "    assert noms_villes([2.33,\"Paris\",48.86,\"Lyon\"])==[\"Paris\",\"Lyon\"]\n",
    "    print(\"Test OK\")\n",
    "test_noms_villes()"
   ]
  },
  {
   "cell_type": "markdown",
   "metadata": {
    "deletable": false,
    "editable": false,
    "run_control": {
     "frozen": true
    }
   },
   "source": [
    "#### Question 3 : Distance entre deux villes repérées par leurs longitude et latitude\n",
    "\n",
    "Pour calculer la distance $d$ entre deux villes $V_1$ (de longitude $long1$ et de latitude $lat1$) et $V_2$ (de longitude $long2$ et de latitude $lat2$) à partir de leurs longitude et latitude, on peut utiliser la formule suivante :\n",
    "\n",
    "$d=R*arccos(sin(lat1)*sin(lat2)+cos(lat1)*cos(lat2)*cos(long2-long1))$\n",
    "\n",
    "où le rayon de la terre $R$ vaut 6370.7km et les latitudes et longitudes sont exprimées en radians (en non en degrés décimaux).\n",
    "Cela correspond à la méthode de calcul avec la loi des sinus décrite [ici](http://villemin.gerard.free.fr/aGeograp/Distance.htm) \n",
    "\n",
    "Par exemple, Paris et Marseille sont distantes de 661,86 km.\n",
    "\n",
    "- Ecrire une fonction `distance(long1,lat1,long2,lat2)` qui calcule et retourne la distance entre deux villes $V_1$ (de longitude `long1` et `lat1`) et $V_2$ (de `long2`et `lat2`).\n",
    "\n",
    "**NB** Les fonctions `sin`, `cos` et le nombre `pi` sont définis dans la bibliothèque `math`. La fonction `arccos` est définie dans la bibliothèque `numpy`.\n",
    "\n",
    "Pour **convertir des degrés en radians**, il faut multiplier par $\\pi/180$.\n",
    "\n",
    "\n",
    "- Ecrire une fonction de tests unitaire permettant de vérifier cette fonction."
   ]
  },
  {
   "cell_type": "code",
   "execution_count": 27,
   "metadata": {
    "scrolled": true
   },
   "outputs": [
    {
     "name": "stdout",
     "output_type": "stream",
     "text": [
      "661.86\n",
      "Test OK\n"
     ]
    }
   ],
   "source": [
    "\"\"\"\n",
    "Cette fonction prend en paramètres les longitudes et latitudes de deux villes, les converties en radians, et applique la formule permettant de calculer la\n",
    "distance entre deux villes à partir de leur longitude et latitude. La fonction renvoie enfin la variable d qui contient le résultat de ce calcul.\n",
    "\"\"\"\n",
    "\n",
    "from math import*\n",
    "from numpy import*\n",
    "def distance(long1,lat1,long2,lat2):\n",
    "    long1=long1*(pi/180)\n",
    "    long2=long2*(pi/180)\n",
    "    lat1=lat1*(pi/180)\n",
    "    lat2=lat2*(pi/180)\n",
    "    R=6370.7\n",
    "    \n",
    "    d=R*arccos(sin(lat1)*sin(lat2)+cos(lat1)*cos(lat2)*cos(long2-long1))\n",
    "    return d\n",
    "    \n",
    "print(round(distance(2.33,48.86,5.40,43.30),2))\n",
    "\n",
    "\n",
    "\n",
    "def test_distance():\n",
    "    assert round(distance(2.33,48.86,5.40,43.30),2)==661.86\n",
    "    assert distance(2.33,48.86,2.33,48.86)==0\n",
    "    assert distance(0,0,0,0)==0\n",
    "    print(\"Test OK\")\n",
    "test_distance()\n"
   ]
  },
  {
   "cell_type": "markdown",
   "metadata": {
    "deletable": false,
    "editable": false
   },
   "source": [
    "#### Question 4 : Coordonnées d'une ville dans le tableau `villes`\n",
    "\n",
    "a) Ecrire une fonction `indexCity(ville, villes)` qui retourne la position (l'indice) de la `ville` passée en paramètre dans le tableau `villes`. Elle retournera `-1` si la ville passée en paramètre n'est pas dans le tableau. Cette information pourra être utilisée dans la suite pour trouver la longitude et la latitude d'une ville donnée par son nom.\n",
    "\n",
    "Par exemple, \n",
    "- l'instruction `indexCity(\"Paris\", villes)` retournera `0`,\n",
    "- l'instruction `indexCity(\"Clermont-Ferrand\",villes)` retournera  `18`,\n",
    "- et l'instruction `indexCity(\"Villetaneuse\",villes)` retournera  `-1`.\n",
    "\n",
    "b) Ecrire une fonction de tests unitaire permettant de vérifier cette fonction."
   ]
  },
  {
   "cell_type": "code",
   "execution_count": 28,
   "metadata": {
    "scrolled": true
   },
   "outputs": [
    {
     "name": "stdout",
     "output_type": "stream",
     "text": [
      "0\n",
      "Test OK\n"
     ]
    }
   ],
   "source": [
    "\"\"\"\n",
    "Cette fonction parcours tous les éléments du tableau \"villes\" et repère ceux qui sont du type chaine de caractère. Quand c'est le cas, la fonction regarde si la\n",
    "chaine de caractère correspond à la ville passée en paramètre. Si c'est le cas, elle retourne son indice, donné par la variable i, et sinon elle continue de\n",
    "parcourir le tableau. Si à la fin du tableau aucun élément ne correspond à la ville passée en paramètre, alors la fonction retourne -1.\n",
    "\"\"\"\n",
    "\n",
    "def indexCity(ville,villes):\n",
    "    i=0\n",
    "    while i<len(villes):\n",
    "        if type(villes[i])==str and villes[i]==ville:\n",
    "            return i\n",
    "        i+=1\n",
    "    return -1\n",
    "print(indexCity(\"Paris\",villes))\n",
    "\n",
    "\n",
    "from math import*\n",
    "def test_indexCity():\n",
    "    assert indexCity(\"Paris\",villes)==0\n",
    "    assert indexCity(\"Clermont-Ferrand\",villes)==18\n",
    "    assert indexCity(\"Villetaneuse\",villes)==-1\n",
    "    print(\"Test OK\")\n",
    "test_indexCity()"
   ]
  },
  {
   "cell_type": "markdown",
   "metadata": {
    "deletable": false,
    "editable": false
   },
   "source": [
    "#### Question 5 : Distance entre deux villes données par leurs noms\n",
    "\n",
    "- Ecrire une fonction `distance_noms(nom1,nom2, villes)` qui calcule et retourne la distance entre deux villes $V_1$ et $V_2$ appelées `nom1` et `nom2` dans le tableau `villes`. La fonction retournera `-1` si une de ces villes n'est pas dans le tableau.\n",
    "- Ecrire une fonction de tests unitaires permettant de vérifier cette fonction."
   ]
  },
  {
   "cell_type": "code",
   "execution_count": 29,
   "metadata": {
    "scrolled": true
   },
   "outputs": [
    {
     "name": "stdout",
     "output_type": "stream",
     "text": [
      "661.8616554466852\n",
      "Test OK\n"
     ]
    }
   ],
   "source": [
    "\"\"\"\n",
    "Cette fonction commence par utliser la fonction indexCity afin de repérer l'indice des deux villes passées en paramètres, appelées nom1 et nom2.\n",
    "Ces indices sont stockés respectivement dans les variables position1 et position2. Si l'un de ces deux indices est -1, autrement dit qu'au moins l'une des deux villes \n",
    "passées en paramètres n'est pas dans le tableau \"villes\", alors la fonction retourne -1. Sinon, elle associe les longitudes et latitudes respectives des deux villes\n",
    "aux variables long1, lat1, long2, lat2. Pour cela, elle se sert de l'indice des villes et y ajoute 1 pour avoir la longitude et 2 pour la latitude. Enfin, la fonction \n",
    "utilise la fonction distance(long1,lat1,long2,lat2) afin de calculer la distance entre les deux villes initialement passées en paramètres. Cette distance est stockée\n",
    "dans la variable distance_km, qui sera alors retournée.\n",
    "\"\"\"\n",
    "\n",
    "def distance_noms(nom1, nom2, villes):\n",
    "    position1 = indexCity(nom1, villes)\n",
    "    position2 = indexCity(nom2, villes)\n",
    "\n",
    "    if position1 == -1 or position2 == -1:\n",
    "        return -1\n",
    "\n",
    "    long1 = villes[position1 + 1]\n",
    "    lat1 = villes[position1 + 2]\n",
    "    long2 = villes[position2 + 1]\n",
    "    lat2 = villes[position2 + 2]\n",
    "\n",
    "    distance_km = distance(long1, lat1, long2, lat2)\n",
    "    \n",
    "\n",
    "    \n",
    "    return distance_km\n",
    "    \n",
    "print(distance_noms(\"Paris\",\"Marseille\",villes))\n",
    "\n",
    "\n",
    "from math import*\n",
    "def test_distance_noms():\n",
    "    assert round(distance_noms(\"Paris\",\"Marseille\",villes),2)==661.86\n",
    "    assert round(distance_noms(\"Paris\",\"Villetaneuse\",villes),2)==-1\n",
    "    assert round(distance_noms(\"Nice\",\"Toulouse\",villes),2)==-1\n",
    "    print(\"Test OK\")\n",
    "    \n",
    "test_distance_noms()"
   ]
  },
  {
   "cell_type": "markdown",
   "metadata": {
    "deletable": false,
    "editable": false
   },
   "source": [
    "#### Question 6 :  Lecture des villes d'une tournée à partir d'un fichier\n",
    "On suppose que les données sur les villes où doit se rendre le Père Noël réseau sont stockées dans un fichier CSV de la manière suivante :\n",
    "```\n",
    "ville1;longitude1;latitude1\n",
    "ville2;longitude2;latitude2\n",
    "ville3;longitude3;latitude3\n",
    "...\n",
    "```\n",
    "Autrement dit, chaque ligne du fichier contient le nom d'une ville, sa longitude et sa latitude en degrés décimaux, ces données étant séparées par des `';'`. Ces villes sont celles que le Père Noël doit desservir\n",
    "\n",
    "**NB** : Six fichiers CSV de ce type sont fournis dans le répertoire `files/`, il s'agit des fichiers `africa.csv`, `asia.csv`,`europe.csv`, `north-america`, `oceania.csv` and `south-america.csv`. \n",
    "Il est recommandé d'en fabriquer d'autres. \n",
    "\n",
    "- Ecrire une fonction `lecture_villes(path)` prenant en paramètre un chemin vers un tel fichier CSV et retournant un tableau contenant les informations sur les villes à visiter."
   ]
  },
  {
   "cell_type": "code",
   "execution_count": 30,
   "metadata": {
    "scrolled": true
   },
   "outputs": [
    {
     "name": "stdout",
     "output_type": "stream",
     "text": [
      "['Tirana;19.82;41.33\\n', 'Andorra la Vella;1.52;42.51\\n', 'Vienna;16.37;48.21\\n', 'Minsk;27.57;53.9\\n', 'Brussels;4.35;50.85\\n', 'Sarajevo;18.36;43.85\\n', 'Sofia;23.32;42.7\\n', 'Zagreb;15.98;45.81\\n', 'Nicosia;33.37;35.17\\n', 'Prague;14.42;50.09\\n', 'Copenhagen;12.57;55.68\\n', 'Tallinn;24.75;59.44\\n', 'Tórshavn;-6.77;62.01\\n', 'Helsinki;24.94;60.17\\n', 'Paris;2.35;48.85\\n', 'Berlin;13.41;52.52\\n', 'Gibraltar;-5.35;36.14\\n', 'Athens;23.72;37.98\\n', 'St Peter Port;-2.54;49.46\\n', 'Budapest;19.04;47.5\\n', 'Reykjavík;-21.9;64.14\\n', 'Dublin;-6.25;53.33\\n', 'Douglas;-4.48;54.15\\n', 'Rome;12.48;41.89\\n', 'Saint Helier;-2.1;49.19\\n', 'Pristina;21.17;42.67\\n', 'Riga;24.11;56.95\\n', 'Vaduz;9.52;47.14\\n', 'Vilnius;25.28;54.69\\n', 'Luxembourg;6.13;49.61\\n', 'Skopje;21.43;42\\n', 'Valletta;14.51;35.9\\n', 'Chişinău;28.86;47.01\\n', 'Monaco;7.42;43.73\\n', 'Podgorica;19.26;42.44\\n', 'Amsterdam;4.89;52.37\\n', 'Oslo;10.75;59.91\\n', 'Warsaw;21.01;52.23\\n', 'Lisbon;-9.13;38.72\\n', 'Bucharest;26.11;44.43\\n', 'Moscow;37.62;55.75\\n', 'San Marino;12.45;43.94\\n', 'Belgrade;20.47;44.8\\n', 'Bratislava;17.11;48.15\\n', 'Ljubljana;14.51;46.05\\n', 'Madrid;-3.7;40.42\\n', 'Longyearbyen;15.64;78.22\\n', 'Stockholm;18.06;59.33\\n', 'Berne;7.45;46.95\\n', 'Kiev;30.52;50.45\\n', 'London;-0.13;51.51\\n', 'Vatican;12.45;41.9\\n']\n"
     ]
    }
   ],
   "source": [
    "\"\"\"\n",
    "Cette fonction permet d'ouvrir un fichier à partir d'un chemin pris en paramètre (path). Une fois ouvert, la fonction lit le fichier entièrement et stocke\n",
    "les valeurs dans un tableau. Une fois cela fait, le fichier est fermé et la fonction retourne le tableau correspondant.\n",
    "\"\"\"\n",
    "\n",
    "def lecture_villes(path):\n",
    "    f=open(path,\"r\",encoding=\"utf-8\")\n",
    "    lecture=f.readlines()\n",
    "    f.close()\n",
    "    return lecture\n",
    "print(lecture_villes(\"europe.csv\"))"
   ]
  },
  {
   "cell_type": "markdown",
   "metadata": {
    "deletable": false,
    "editable": false
   },
   "source": [
    "#### Question 7 : Longueur d'une tournée\n",
    "\n",
    "On considère que le Père Noël peut partir de n'importe laquelle des villes qu'il doit visiter et qu'il doit revenir à son point de départ à la fin de la tournée. Lors de sa tournée, il doit visiter chacune des villes dont les informations sont contenues dans le tableau `villes` une fois et une seule. \n",
    "\n",
    "On représente une tournée possible sous la forme d'un tableau `tournee` contenant le nom des villes dans l'ordre où le Père Noël les visitera sans oublier de revenir à la ville dont il est parti. \n",
    "\n",
    "L'objectif est de calculer la longueur d'une tournée. \n",
    "\n",
    "- Ecrire une fonction `long_tour(villes, tournee)` qui prend en paramètres le tableau `villes` contenant les informations sur les villes à visiter et le tableau `tournee` indiquant l'ordre dans lequel les villes sont visitées. La fonction retourne la longueur de la tournée correspondante.\n",
    "\n",
    "- Ecrire une fonction de tests unitaires permettant de vérifier cette fonction."
   ]
  },
  {
   "cell_type": "code",
   "execution_count": 31,
   "metadata": {},
   "outputs": [
    {
     "name": "stdout",
     "output_type": "stream",
     "text": [
      "4433.837856136777\n",
      "Test OK\n"
     ]
    }
   ],
   "source": [
    "\"\"\"\n",
    "Cette fonction prend en paramètre le tableau \"villes\" qui contient les informations sur les villes à visiter, et le tableau \"tournee\" qui contientl'ordre dans \n",
    "lequel les villes vont être visitées. Si le tableau tournee ne contient qu'un élément (ou même aucun), la fonction retourne 0.0 comme distance. Sinon, la fonction\n",
    "parcourt tous les éléments du tableau \"tournee\" et applique la fonction \"distance_noms\" à chaque couple de villes et ajoute la distance calculée à la variable\n",
    "\"somme\". Une fois tout le tableau parcouru, la fonction n'oublie pas de calculer la distance entre la dernière ville du tableau et la première (afin de revenir au\n",
    "point de départ) et d'ajouter la distance à la variable \"somme\" qui est alors retournée.\n",
    "\"\"\"\n",
    "\n",
    "def long_tour(villes, tournee):\n",
    "    i=0\n",
    "    somme=0\n",
    "    if len(tournee)<2:\n",
    "        return 0.0\n",
    "    while i<len(tournee)-1:\n",
    "        somme+=distance_noms(tournee[i], tournee[i+1], villes)\n",
    "        i+=1\n",
    "    somme+=distance_noms(tournee[i], tournee[0], villes)\n",
    "    return somme\n",
    "\n",
    "print(long_tour(villes, ['Paris', 'Lyon', 'Marseille', 'Lille', 'Strasbourg', 'Rennes', 'Clermont-Ferrand', 'Bordeaux', 'Toulouse', 'Grenoble']))\n",
    "\n",
    "\n",
    "from math import*\n",
    "def test_long_tour():\n",
    "    assert long_tour(villes, [\"Paris\"])==0.0\n",
    "    assert long_tour(villes, [])==0.0\n",
    "    assert round(long_tour(villes, [\"Paris\",\"Marseille\",\"Toulouse\",\"Rennes\",\"Clermont-Ferrand\"]),2)==2331.65\n",
    "    assert round(long_tour(villes, [\"Paris\",\"Marseille\"]),2)==1323.72\n",
    "    print(\"Test OK\")\n",
    "test_long_tour()\n"
   ]
  },
  {
   "cell_type": "markdown",
   "metadata": {
    "deletable": false,
    "editable": false
   },
   "source": [
    "#### Question 8 : Recherche d'une plus courte tournée \n",
    "\n",
    "Pour améliorer la longueur de la tournée, on peut essayer de changer l'ordre des villes aléatoirement. Pour une tournée donnée par un tableau `tournee` cela peut se faire avec la fonction `shuffle` de la bibliothèque `random` qui mélange aléatoirement les villes qui sont dans le tableau `tournee`, grâce à l'instruction  `shuffle(tournee)`, et ne retourne rien.\n",
    "\n",
    "- Utiliser cette fonction pour écrire un programme qui cherche une tournée plus courte à proposer au Père Noël. \n",
    "- Comment la solution s'améliore-t-elle en fonction de nombre de tentatives de mélange ? "
   ]
  },
  {
   "cell_type": "code",
   "execution_count": 35,
   "metadata": {
    "scrolled": true
   },
   "outputs": [
    {
     "name": "stdout",
     "output_type": "stream",
     "text": [
      "Meilleure tournée : ['Grenoble', 'Clermont-Ferrand', 'Rennes', 'Bordeaux', 'Toulouse', 'Marseille', 'Paris', 'Lille', 'Strasbourg', 'Lyon']\n",
      "Longueur de la meilleure tournée : 3315.3128693521107\n"
     ]
    }
   ],
   "source": [
    "\"\"\"\n",
    "Ce programme définis tout d'abord un tableau \"tournee\", qui est considéré comme la \"meilleure tournee\" initiale, à laquelle est associée la \"meilleure distance\",\n",
    "calculée par la fonction \"long_tour\". Ensuite, on définis le nombre de répétition de la boucle qui va suivre. Ici, on choisit 1000. Ainsi, on mélange aléatoirement \n",
    "le tableau \"tournee\" et on applique la fonction \"long_tour\" afin de calculer la distance de cette nouvelle tournée. La valeur sera stockée dans la variable\n",
    "\"nouvelle_distance\". Si cette \"nouvelle_distance\" est inférieure à la \"meilleure_distance\", alors \"meilleure_tournee\" récupère le nouveau tableau \"tournee\" et \n",
    "la variable \"meilleure_distance\" prend la valeur de \"nouvelle_distance\". On répète cela 1000 fois afin de sortir la meilleure distance et donc la meilleure tournée\n",
    "parmis les 1000 essais.\n",
    "\"\"\"\n",
    "\n",
    "\n",
    "from random import*\n",
    "tournee=['Paris', 'Lyon', 'Marseille', 'Lille', 'Strasbourg', 'Rennes', 'Clermont-Ferrand', 'Bordeaux', 'Toulouse', 'Grenoble']\n",
    "meilleure_tournee = tournee\n",
    "meilleure_distance = long_tour(villes, tournee)\n",
    "\n",
    "num_i = 1000\n",
    "\n",
    "i = 0\n",
    "while i < num_i:\n",
    "    shuffle(tournee)\n",
    "    nouvelle_distance = long_tour(villes, tournee)\n",
    "\n",
    "    if nouvelle_distance < meilleure_distance:\n",
    "        meilleure_tournee = tournee * 1\n",
    "        meilleure_distance = nouvelle_distance\n",
    "\n",
    "    i+= 1\n",
    "\n",
    "print(\"Meilleure tournée :\", meilleure_tournee)\n",
    "print(\"Longueur de la meilleure tournée :\", meilleure_distance)"
   ]
  },
  {
   "cell_type": "markdown",
   "metadata": {},
   "source": [
    "#### Question Bonus (facultative) : Visualisation de la tournée proposée au Père Noël \n",
    "\n",
    "Pour faciliter le travail du Père Noël, vous décidez de lui fournir une carte où est représentée la tournée sélectionnée. \n",
    "\n",
    "Pour cela, on peut (mais ce ne n'est qu'une suggestion) utiliser la bibliothèque [`folium`](https://python-visualization.github.io/folium/latest/getting_started.html). Vous pouvez également utiliser tout autre bibliothèque de votre choix.\n",
    "\n",
    "- Ecrire un programme permettant la visualisation de la tournée proposée au Père Noël"
   ]
  },
  {
   "cell_type": "code",
   "execution_count": 37,
   "metadata": {
    "scrolled": true
   },
   "outputs": [
    {
     "name": "stdout",
     "output_type": "stream",
     "text": [
      "La carte de la tournée a été enregistrée sous 'tournee_pere_noel.html'.\n"
     ]
    }
   ],
   "source": [
    "from folium import Map, Marker, PolyLine\n",
    "\n",
    "def afficher_tournee(villes, tournee):\n",
    "    carte = Map(location=[villes[2], villes[1]], zoom_start=6)\n",
    "\n",
    "    i = 0\n",
    "    while i < len(tournee):\n",
    "        nom_ville = tournee[i]\n",
    "        latitude = villes[villes.index(nom_ville) + 2]\n",
    "        longitude = villes[villes.index(nom_ville) + 1]\n",
    "        Marker([latitude, longitude], tooltip=nom_ville).add_to(carte)\n",
    "        i += 1\n",
    "  \n",
    "    points = []\n",
    "    for i in range(len(tournee)):\n",
    "        nom_ville = tournee[i]\n",
    "        latitude = villes[villes.index(nom_ville) + 2]\n",
    "        longitude = villes[villes.index(nom_ville) + 1]\n",
    "        points.append([latitude, longitude])\n",
    "\n",
    "    PolyLine(locations=points, color='blue').add_to(carte)\n",
    "\n",
    "    carte.save('tournee_pere_noel.html')\n",
    "    print(\"La carte de la tournée a été enregistrée sous 'tournee_pere_noel.html'.\")\n",
    "\n",
    "afficher_tournee(villes, ['Grenoble', 'Clermont-Ferrand', 'Rennes', 'Bordeaux', 'Toulouse', 'Marseille', 'Paris', 'Lille', 'Strasbourg', 'Lyon'])"
   ]
  },
  {
   "cell_type": "code",
   "execution_count": null,
   "metadata": {},
   "outputs": [],
   "source": []
  }
 ],
 "metadata": {
  "kernelspec": {
   "display_name": "Python 3 (ipykernel)",
   "language": "python",
   "name": "python3"
  },
  "language_info": {
   "codemirror_mode": {
    "name": "ipython",
    "version": 3
   },
   "file_extension": ".py",
   "mimetype": "text/x-python",
   "name": "python",
   "nbconvert_exporter": "python",
   "pygments_lexer": "ipython3",
   "version": "3.11.5"
  },
  "latex_envs": {
   "LaTeX_envs_menu_present": true,
   "autoclose": false,
   "autocomplete": true,
   "bibliofile": "biblio.bib",
   "cite_by": "apalike",
   "current_citInitial": 1,
   "eqLabelWithNumbers": true,
   "eqNumInitial": 1,
   "hotkeys": {
    "equation": "Ctrl-E",
    "itemize": "Ctrl-I"
   },
   "labels_anchors": false,
   "latex_user_defs": false,
   "report_style_numbering": false,
   "user_envs_cfg": false
  }
 },
 "nbformat": 4,
 "nbformat_minor": 4
}
